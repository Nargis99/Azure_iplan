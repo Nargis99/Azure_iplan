{
 "cells": [
  {
   "cell_type": "code",
   "execution_count": 1,
   "metadata": {},
   "outputs": [
    {
     "ename": "ModuleNotFoundError",
     "evalue": "No module named 'redis.client'; 'redis' is not a package",
     "output_type": "error",
     "traceback": [
      "\u001b[1;31m---------------------------------------------------------------------------\u001b[0m",
      "\u001b[1;31mModuleNotFoundError\u001b[0m                       Traceback (most recent call last)",
      "Cell \u001b[1;32mIn[1], line 1\u001b[0m\n\u001b[1;32m----> 1\u001b[0m \u001b[38;5;28;01mimport\u001b[39;00m \u001b[38;5;21;01mredis\u001b[39;00m\n",
      "File \u001b[1;32mc:\\Users\\nasreenn\\Desktop\\azure-open-ai-embeddings-qna\\code\\utilities\\redis.py:6\u001b[0m\n\u001b[0;32m      3\u001b[0m \u001b[38;5;28;01mimport\u001b[39;00m \u001b[38;5;21;01muuid\u001b[39;00m\n\u001b[0;32m      4\u001b[0m \u001b[38;5;28;01mfrom\u001b[39;00m \u001b[38;5;21;01mtyping\u001b[39;00m \u001b[38;5;28;01mimport\u001b[39;00m Any, Callable, Dict, Iterable, List, Mapping, Optional, Tuple\n\u001b[1;32m----> 6\u001b[0m \u001b[38;5;28;01mfrom\u001b[39;00m \u001b[38;5;21;01mlangchain\u001b[39;00m\u001b[38;5;21;01m.\u001b[39;00m\u001b[38;5;21;01mvectorstores\u001b[39;00m\u001b[38;5;21;01m.\u001b[39;00m\u001b[38;5;21;01mredis\u001b[39;00m \u001b[38;5;28;01mimport\u001b[39;00m Redis\n\u001b[0;32m      7\u001b[0m \u001b[38;5;28;01mfrom\u001b[39;00m \u001b[38;5;21;01mlangchain\u001b[39;00m\u001b[38;5;21;01m.\u001b[39;00m\u001b[38;5;21;01mdocstore\u001b[39;00m\u001b[38;5;21;01m.\u001b[39;00m\u001b[38;5;21;01mdocument\u001b[39;00m \u001b[38;5;28;01mimport\u001b[39;00m Document\n\u001b[0;32m      8\u001b[0m \u001b[38;5;28;01mfrom\u001b[39;00m \u001b[38;5;21;01mlangchain\u001b[39;00m\u001b[38;5;21;01m.\u001b[39;00m\u001b[38;5;21;01membeddings\u001b[39;00m\u001b[38;5;21;01m.\u001b[39;00m\u001b[38;5;21;01mbase\u001b[39;00m \u001b[38;5;28;01mimport\u001b[39;00m Embeddings\n",
      "File \u001b[1;32mc:\\Users\\nasreenn\\Desktop\\azure-open-ai-embeddings-qna\\.venv\\lib\\site-packages\\langchain\\vectorstores\\redis.py:11\u001b[0m\n\u001b[0;32m      9\u001b[0m \u001b[38;5;28;01mimport\u001b[39;00m \u001b[38;5;21;01mnumpy\u001b[39;00m \u001b[38;5;28;01mas\u001b[39;00m \u001b[38;5;21;01mnp\u001b[39;00m\n\u001b[0;32m     10\u001b[0m \u001b[38;5;28;01mfrom\u001b[39;00m \u001b[38;5;21;01mpydantic\u001b[39;00m \u001b[38;5;28;01mimport\u001b[39;00m BaseModel, root_validator\n\u001b[1;32m---> 11\u001b[0m \u001b[38;5;28;01mfrom\u001b[39;00m \u001b[38;5;21;01mredis\u001b[39;00m\u001b[38;5;21;01m.\u001b[39;00m\u001b[38;5;21;01mclient\u001b[39;00m \u001b[38;5;28;01mimport\u001b[39;00m Redis \u001b[38;5;28;01mas\u001b[39;00m RedisType\n\u001b[0;32m     13\u001b[0m \u001b[38;5;28;01mfrom\u001b[39;00m \u001b[38;5;21;01mlangchain\u001b[39;00m\u001b[38;5;21;01m.\u001b[39;00m\u001b[38;5;21;01mdocstore\u001b[39;00m\u001b[38;5;21;01m.\u001b[39;00m\u001b[38;5;21;01mdocument\u001b[39;00m \u001b[38;5;28;01mimport\u001b[39;00m Document\n\u001b[0;32m     14\u001b[0m \u001b[38;5;28;01mfrom\u001b[39;00m \u001b[38;5;21;01mlangchain\u001b[39;00m\u001b[38;5;21;01m.\u001b[39;00m\u001b[38;5;21;01membeddings\u001b[39;00m\u001b[38;5;21;01m.\u001b[39;00m\u001b[38;5;21;01mbase\u001b[39;00m \u001b[38;5;28;01mimport\u001b[39;00m Embeddings\n",
      "\u001b[1;31mModuleNotFoundError\u001b[0m: No module named 'redis.client'; 'redis' is not a package"
     ]
    }
   ],
   "source": [
    "import redis"
   ]
  },
  {
   "cell_type": "code",
   "execution_count": 1,
   "metadata": {},
   "outputs": [
    {
     "name": "stdout",
     "output_type": "stream",
     "text": [
      "Value of 'HOME' environment variable : None\n",
      "Value of 'JAVA_HOME' environment variable : None\n"
     ]
    }
   ],
   "source": [
    "# import os module \n",
    "import os \n",
    "\n",
    "# Get the value of 'HOME' \n",
    "key = 'HOME'\n",
    "value = os.getenv(key) \n",
    "\n",
    "# Print the value of 'HOME' \n",
    "# environment variable \n",
    "print(\"Value of 'HOME' environment variable :\", value) \n",
    "\n",
    "# Get the value of 'JAVA_HOME' \n",
    "# environment variable \n",
    "key = 'JAVA_HOME'\n",
    "value = os.getenv(key) \n",
    "\n",
    "# Print the value of 'JAVA_HOME' \n",
    "# environment variable \n",
    "print(\"Value of 'JAVA_HOME' environment variable :\", value)\n"
   ]
  },
  {
   "cell_type": "code",
   "execution_count": 17,
   "metadata": {},
   "outputs": [
    {
     "name": "stdout",
     "output_type": "stream",
     "text": [
      "ALLUSERSPROFILE\n",
      "APPDATA\n",
      "APPLICATION_INSIGHTS_NO_DIAGNOSTIC_CHANNEL\n",
      "AZUREWEBJOBSSTORAGE\n",
      "AZURE_CLOUD\n",
      "AZURE_SEARCH_ADMIN_KEY\n",
      "AZURE_SEARCH_SERVICE_NAME\n",
      "BLOB_ACCOUNT_KEY\n",
      "BLOB_ACCOUNT_NAME\n",
      "BLOB_CONTAINER_NAME\n",
      "CHAT_AI_AVATAR_STYLE\n",
      "CHAT_AI_SEED\n",
      "CHAT_USER_AVATAR_STYLE\n",
      "CHAT_USER_SEED\n",
      "CHROME_CRASHPAD_PIPE_NAME\n",
      "CHUNK_OVERLAP\n",
      "CHUNK_SIZE\n",
      "COMMONPROGRAMFILES\n",
      "COMMONPROGRAMFILES(X86)\n",
      "COMMONPROGRAMW6432\n",
      "COMPUTERNAME\n",
      "COMSPEC\n",
      "CONDA_DEFAULT_ENV\n",
      "CONDA_EXE\n",
      "CONDA_PREFIX\n",
      "CONDA_PROMPT_MODIFIER\n",
      "CONDA_PYTHON_EXE\n",
      "CONDA_ROOT\n",
      "CONDA_SHLVL\n",
      "CONVERT_ADD_EMBEDDINGS_URL\n",
      "DRIVERDATA\n",
      "EFC_9308\n",
      "ELECTRON_NO_ATTACH_CONSOLE\n",
      "ELECTRON_RUN_AS_NODE\n",
      "FORM_RECOGNIZER_ENDPOINT\n",
      "FORM_RECOGNIZER_KEY\n",
      "FPS_BROWSER_APP_PROFILE_STRING\n",
      "FPS_BROWSER_USER_PROFILE_STRING\n",
      "HOMEDRIVE\n",
      "HOMEPATH\n",
      "IGCCSVC_DB\n",
      "JPY_INTERRUPT_EVENT\n",
      "JUPYTER_CONFIG_DATA\n",
      "LOCALAPPDATA\n",
      "LOGONSERVER\n",
      "NUMBER_OF_EMBEDDINGS_FOR_QNA\n",
      "NUMBER_OF_PROCESSORS\n",
      "ONEDRIVE\n",
      "ONEDRIVECOMMERCIAL\n",
      "OPENAI_API_BASE\n",
      "OPENAI_API_KEY\n",
      "OPENAI_DEPLOYMENT_TYPE\n",
      "OPENAI_EMBEDDINGS_ENGINE\n",
      "OPENAI_EMBEDDINGS_ENGINE_DOC\n",
      "OPENAI_EMBEDDINGS_ENGINE_QUERY\n",
      "OPENAI_ENGINE\n",
      "OPENAI_MAX_TOKENS\n",
      "OPENAI_TEMPERATURE\n",
      "ORIGINAL_XDG_CURRENT_DESKTOP\n",
      "OS\n",
      "PATH\n",
      "PATHEXT\n",
      "PROCESSOR_ARCHITECTURE\n",
      "PROCESSOR_IDENTIFIER\n",
      "PROCESSOR_LEVEL\n",
      "PROCESSOR_REVISION\n",
      "PROGRAMDATA\n",
      "PROGRAMFILES\n",
      "PROGRAMFILES(X86)\n",
      "PROGRAMW6432\n",
      "PROMPT\n",
      "PSMODULEPATH\n",
      "PUBLIC\n",
      "PYDEVD_IPYTHON_COMPATIBLE_DEBUGGING\n",
      "PYTHONIOENCODING\n",
      "PYTHONUNBUFFERED\n",
      "QUEUE_NAME\n",
      "REDIS_ADDRESS\n",
      "REDIS_ARGS\n",
      "REDIS_PASSWORD\n",
      "REDIS_PORT\n",
      "SESSIONNAME\n",
      "SYSTEMDRIVE\n",
      "SYSTEMROOT\n",
      "TEMP\n",
      "TMP\n",
      "TRANSLATE_ENDPOINT\n",
      "TRANSLATE_KEY\n",
      "TRANSLATE_REGION\n",
      "UATDATA\n",
      "USERDNSDOMAIN\n",
      "USERDOMAIN\n",
      "USERDOMAIN_ROAMINGPROFILE\n",
      "USERNAME\n",
      "USERPROFILE\n",
      "VECTOR_STORE_TYPE\n",
      "VIRTUAL_ENV\n",
      "VIRTUAL_ENV_PROMPT\n",
      "VNET_DEPLOYMENT\n",
      "VSCODE_AMD_ENTRYPOINT\n",
      "VSCODE_CLI\n",
      "VSCODE_CODE_CACHE_PATH\n",
      "VSCODE_CRASH_REPORTER_PROCESS_TYPE\n",
      "VSCODE_CWD\n",
      "VSCODE_HANDLES_UNCAUGHT_ERRORS\n",
      "VSCODE_IPC_HOOK\n",
      "VSCODE_L10N_BUNDLE_LOCATION\n",
      "VSCODE_NLS_CONFIG\n",
      "VSCODE_PID\n",
      "WINDIR\n",
      "ZES_ENABLE_SYSMAN\n",
      "_OLD_VIRTUAL_PATH\n",
      "_OLD_VIRTUAL_PROMPT\n",
      "__PSLOCKDOWNPOLICY\n",
      "PYDEVD_USE_FRAME_EVAL\n",
      "TERM\n",
      "CLICOLOR\n",
      "FORCE_COLOR\n",
      "CLICOLOR_FORCE\n",
      "PAGER\n",
      "GIT_PAGER\n",
      "MPLBACKEND\n"
     ]
    }
   ],
   "source": [
    "for key in os.environ:\n",
    "    print(key)"
   ]
  },
  {
   "cell_type": "code",
   "execution_count": 18,
   "metadata": {},
   "outputs": [
    {
     "name": "stdout",
     "output_type": "stream",
     "text": [
      "Value of 'CHAT_USER_AVATAR_STYLE' environment variable: icons\n"
     ]
    }
   ],
   "source": [
    "if 'CHAT_USER_AVATAR_STYLE' in os.environ:\n",
    "    print(\"Value of 'CHAT_USER_AVATAR_STYLE' environment variable:\", os.environ['CHAT_AI_AVATAR_STYLE'])"
   ]
  },
  {
   "cell_type": "code",
   "execution_count": 12,
   "metadata": {},
   "outputs": [],
   "source": [
    "os.environ['CHAT_USER_AVATAR_STYLE'] = 'icons'\n",
    "os.environ['CHAT_USER_SEED'] = 'Mia'\n",
    "os.environ['CHAT_AI_AVATAR_STYLE'] = 'icons'\n",
    "os.environ['CHAT_AI_SEED'] = 'Mia'"
   ]
  },
  {
   "cell_type": "code",
   "execution_count": null,
   "metadata": {},
   "outputs": [],
   "source": []
  }
 ],
 "metadata": {
  "kernelspec": {
   "display_name": ".venv",
   "language": "python",
   "name": "python3"
  },
  "language_info": {
   "codemirror_mode": {
    "name": "ipython",
    "version": 3
   },
   "file_extension": ".py",
   "mimetype": "text/x-python",
   "name": "python",
   "nbconvert_exporter": "python",
   "pygments_lexer": "ipython3",
   "version": "3.10.9"
  }
 },
 "nbformat": 4,
 "nbformat_minor": 2
}
